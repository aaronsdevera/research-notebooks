{
 "cells": [
  {
   "attachments": {},
   "cell_type": "markdown",
   "metadata": {},
   "source": [
    "# Mastodon API testing"
   ]
  },
  {
   "attachments": {},
   "cell_type": "markdown",
   "metadata": {},
   "source": [
    "Trying out the API for my local server `infosec.exchange`"
   ]
  },
  {
   "attachments": {},
   "cell_type": "markdown",
   "metadata": {},
   "source": [
    "Install the library. Docs are here: https://mastodonpy.readthedocs.io/en/stable/index.html"
   ]
  },
  {
   "cell_type": "code",
   "execution_count": null,
   "metadata": {},
   "outputs": [],
   "source": [
    "%pip install Mastodon.py"
   ]
  },
  {
   "attachments": {},
   "cell_type": "markdown",
   "metadata": {},
   "source": [
    "Import the libraries"
   ]
  },
  {
   "cell_type": "code",
   "execution_count": 2,
   "metadata": {},
   "outputs": [],
   "source": [
    "import os\n",
    "import json\n",
    "import datetime\n",
    "from mastodon import Mastodon\n",
    "from mastodon import StreamListener"
   ]
  },
  {
   "attachments": {},
   "cell_type": "markdown",
   "metadata": {},
   "source": [
    "Get this data from the `Development` tab of the Mastodon website after creating a app."
   ]
  },
  {
   "cell_type": "code",
   "execution_count": 3,
   "metadata": {},
   "outputs": [],
   "source": [
    "CONFIG = json.load(open('config.json'))"
   ]
  },
  {
   "attachments": {},
   "cell_type": "markdown",
   "metadata": {},
   "source": [
    "Instantiate a client."
   ]
  },
  {
   "cell_type": "code",
   "execution_count": 4,
   "metadata": {},
   "outputs": [],
   "source": [
    "mastodon = Mastodon(\n",
    "    access_token = CONFIG['access_token'],\n",
    "    api_base_url='https://infosec.exchange'\n",
    ")\n"
   ]
  },
  {
   "attachments": {},
   "cell_type": "markdown",
   "metadata": {},
   "source": [
    "check it out!"
   ]
  },
  {
   "cell_type": "code",
   "execution_count": 5,
   "metadata": {},
   "outputs": [
    {
     "data": {
      "text/plain": [
       "<mastodon.Mastodon.Mastodon at 0x109d535d0>"
      ]
     },
     "execution_count": 5,
     "metadata": {},
     "output_type": "execute_result"
    }
   ],
   "source": [
    "mastodon"
   ]
  },
  {
   "attachments": {},
   "cell_type": "markdown",
   "metadata": {},
   "source": [
    "OK, let's get some posts."
   ]
  },
  {
   "cell_type": "code",
   "execution_count": 6,
   "metadata": {},
   "outputs": [],
   "source": [
    "timeline = mastodon.timeline_home()"
   ]
  },
  {
   "cell_type": "code",
   "execution_count": 7,
   "metadata": {},
   "outputs": [
    {
     "data": {
      "text/plain": [
       "mastodon.utility.AttribAccessList"
      ]
     },
     "execution_count": 7,
     "metadata": {},
     "output_type": "execute_result"
    }
   ],
   "source": [
    "type(timeline)"
   ]
  },
  {
   "cell_type": "code",
   "execution_count": 8,
   "metadata": {},
   "outputs": [
    {
     "data": {
      "text/plain": [
       "{'id': 109527511262366137,\n",
       " 'created_at': datetime.datetime(2022, 12, 17, 6, 6, 28, tzinfo=tzutc()),\n",
       " 'in_reply_to_id': None,\n",
       " 'in_reply_to_account_id': None,\n",
       " 'sensitive': False,\n",
       " 'spoiler_text': '',\n",
       " 'visibility': 'public',\n",
       " 'language': None,\n",
       " 'uri': 'https://ottawa.place/users/leigh/statuses/109527511093383303/activity',\n",
       " 'url': None,\n",
       " 'replies_count': 0,\n",
       " 'reblogs_count': 0,\n",
       " 'favourites_count': 0,\n",
       " 'edited_at': None,\n",
       " 'favourited': False,\n",
       " 'reblogged': False,\n",
       " 'muted': False,\n",
       " 'bookmarked': False,\n",
       " 'local_only': None,\n",
       " 'content': '',\n",
       " 'filtered': [],\n",
       " 'reblog': {'id': 109526609098714708,\n",
       "  'created_at': datetime.datetime(2022, 12, 17, 2, 16, 57, tzinfo=tzutc()),\n",
       "  'in_reply_to_id': None,\n",
       "  'in_reply_to_account_id': None,\n",
       "  'sensitive': False,\n",
       "  'spoiler_text': '',\n",
       "  'visibility': 'public',\n",
       "  'language': 'en',\n",
       "  'uri': 'https://writing.exchange/users/XanIndigo/statuses/109526608610838279',\n",
       "  'url': 'https://writing.exchange/@XanIndigo/109526608610838279',\n",
       "  'replies_count': 19,\n",
       "  'reblogs_count': 97,\n",
       "  'favourites_count': 11,\n",
       "  'edited_at': None,\n",
       "  'favourited': False,\n",
       "  'reblogged': False,\n",
       "  'muted': False,\n",
       "  'bookmarked': False,\n",
       "  'local_only': None,\n",
       "  'content': \"<p>Normalise being wrong. Normalise admitting to mistakes and changing your opinion as you learn more. It's how we learn. It's part of being human.</p>\",\n",
       "  'filtered': [],\n",
       "  'reblog': None,\n",
       "  'account': {'id': 109276872251021498,\n",
       "   'username': 'XanIndigo',\n",
       "   'acct': 'XanIndigo@writing.exchange',\n",
       "   'display_name': 'Winter Wonderxan ❄️',\n",
       "   'locked': False,\n",
       "   'bot': False,\n",
       "   'discoverable': True,\n",
       "   'group': False,\n",
       "   'created_at': datetime.datetime(2022, 11, 2, 0, 0, tzinfo=tzutc()),\n",
       "   'note': '<p>💛🤍💜🖤\\u2029\\u2028 <br>poet • author • astrophysicist • supervillain \\u2028<br>🌿 <br>\\u2028After life scatters your petals, you’ll wear your thorns on full display. \\u2028 <br>📖 <br>I tag my writing with <a href=\"https://writing.exchange/tags/IndigoInk\" class=\"mention hashtag\" rel=\"nofollow noopener noreferrer\" target=\"_blank\">#<span>IndigoInk</span></a>.</p>',\n",
       "   'url': 'https://writing.exchange/@XanIndigo',\n",
       "   'avatar': 'https://media.infosec.exchange/infosecmedia/cache/accounts/avatars/109/276/872/251/021/498/original/d26b2d9c69f2b041.jpeg',\n",
       "   'avatar_static': 'https://media.infosec.exchange/infosecmedia/cache/accounts/avatars/109/276/872/251/021/498/original/d26b2d9c69f2b041.jpeg',\n",
       "   'header': 'https://media.infosec.exchange/infosecmedia/cache/accounts/headers/109/276/872/251/021/498/original/200e3b77106e611d.jpg',\n",
       "   'header_static': 'https://media.infosec.exchange/infosecmedia/cache/accounts/headers/109/276/872/251/021/498/original/200e3b77106e611d.jpg',\n",
       "   'followers_count': 2074,\n",
       "   'following_count': 888,\n",
       "   'statuses_count': 3761,\n",
       "   'last_status_at': datetime.datetime(2022, 12, 17, 0, 0),\n",
       "   'emojis': [],\n",
       "   'fields': [{'name': 'poetry & life',\n",
       "     'value': '<a href=\"https://www.instagram.com/xanindigo/\" rel=\"nofollow noopener noreferrer\" target=\"_blank\"><span class=\"invisible\">https://www.</span><span class=\"\">instagram.com/xanindigo/</span><span class=\"invisible\"></span></a>',\n",
       "     'verified_at': None},\n",
       "    {'name': 'donate',\n",
       "     'value': '<a href=\"https://ko-fi.com/xanindigo\" rel=\"nofollow noopener noreferrer\" target=\"_blank\"><span class=\"invisible\">https://</span><span class=\"\">ko-fi.com/xanindigo</span><span class=\"invisible\"></span></a>',\n",
       "     'verified_at': None}]},\n",
       "  'media_attachments': [],\n",
       "  'mentions': [],\n",
       "  'tags': [],\n",
       "  'emojis': [],\n",
       "  'card': None,\n",
       "  'poll': None},\n",
       " 'account': {'id': 109397046942421495,\n",
       "  'username': 'leigh',\n",
       "  'acct': 'leigh@ottawa.place',\n",
       "  'display_name': 'Leigh Honeywell',\n",
       "  'locked': False,\n",
       "  'bot': False,\n",
       "  'discoverable': True,\n",
       "  'group': False,\n",
       "  'created_at': datetime.datetime(2022, 11, 24, 0, 0, tzinfo=tzutc()),\n",
       "  'note': '<p>Running <a href=\"https://ottawa.place\" rel=\"nofollow noopener noreferrer\" target=\"_blank\"><span class=\"invisible\">https://</span><span class=\"\">ottawa.place</span><span class=\"invisible\"></span></a> with <span class=\"h-card\"><a href=\"https://ottawa.place/@andrew\" class=\"u-url mention\" rel=\"nofollow noopener noreferrer\" target=\"_blank\">@<span>andrew</span></a></span>. Building things at <a href=\"https://tallpoppy.com\" rel=\"nofollow noopener noreferrer\" target=\"_blank\"><span class=\"invisible\">https://</span><span class=\"\">tallpoppy.com</span><span class=\"invisible\"></span></a> too. <a href=\"https://ottawa.place/tags/cats\" class=\"mention hashtag\" rel=\"nofollow noopener noreferrer\" target=\"_blank\">#<span>cats</span></a> <a href=\"https://ottawa.place/tags/skiing\" class=\"mention hashtag\" rel=\"nofollow noopener noreferrer\" target=\"_blank\">#<span>skiing</span></a> <a href=\"https://ottawa.place/tags/cdnpoli\" class=\"mention hashtag\" rel=\"nofollow noopener noreferrer\" target=\"_blank\">#<span>cdnpoli</span></a> <a href=\"https://ottawa.place/tags/urbanism\" class=\"mention hashtag\" rel=\"nofollow noopener noreferrer\" target=\"_blank\">#<span>urbanism</span></a> <a href=\"https://ottawa.place/tags/infosec\" class=\"mention hashtag\" rel=\"nofollow noopener noreferrer\" target=\"_blank\">#<span>infosec</span></a> <a href=\"https://ottawa.place/tags/ottawa\" class=\"mention hashtag\" rel=\"nofollow noopener noreferrer\" target=\"_blank\">#<span>ottawa</span></a></p>',\n",
       "  'url': 'https://ottawa.place/@leigh',\n",
       "  'avatar': 'https://media.infosec.exchange/infosecmedia/cache/accounts/avatars/109/397/046/942/421/495/original/7ef0dd1a599d0c24.jpeg',\n",
       "  'avatar_static': 'https://media.infosec.exchange/infosecmedia/cache/accounts/avatars/109/397/046/942/421/495/original/7ef0dd1a599d0c24.jpeg',\n",
       "  'header': 'https://media.infosec.exchange/infosecmedia/cache/accounts/headers/109/397/046/942/421/495/original/660a69304690dc37.jpeg',\n",
       "  'header_static': 'https://media.infosec.exchange/infosecmedia/cache/accounts/headers/109/397/046/942/421/495/original/660a69304690dc37.jpeg',\n",
       "  'followers_count': 4626,\n",
       "  'following_count': 3139,\n",
       "  'statuses_count': 660,\n",
       "  'last_status_at': datetime.datetime(2022, 12, 17, 0, 0),\n",
       "  'emojis': [],\n",
       "  'fields': [{'name': 'Blog',\n",
       "    'value': '<a href=\"https://hypatia.ca\" rel=\"nofollow noopener noreferrer\" target=\"_blank\"><span class=\"invisible\">https://</span><span class=\"\">hypatia.ca</span><span class=\"invisible\"></span></a>',\n",
       "    'verified_at': None},\n",
       "   {'name': 'Instagram',\n",
       "    'value': '<a href=\"https://instagram.com/hypatiadotca\" rel=\"nofollow noopener noreferrer\" target=\"_blank\"><span class=\"invisible\">https://</span><span class=\"\">instagram.com/hypatiadotca</span><span class=\"invisible\"></span></a>',\n",
       "    'verified_at': None},\n",
       "   {'name': 'Where to find me',\n",
       "    'value': '<a href=\"https://wheretofind.me/@leigh\" rel=\"nofollow noopener noreferrer\" target=\"_blank\"><span class=\"invisible\">https://</span><span class=\"\">wheretofind.me/@leigh</span><span class=\"invisible\"></span></a>',\n",
       "    'verified_at': '2022-12-16T23:51:18.757+00:00'},\n",
       "   {'name': 'Fedified',\n",
       "    'value': '<a href=\"https://fedified.com/@hypatiadotca\" rel=\"nofollow noopener noreferrer\" target=\"_blank\"><span class=\"invisible\">https://</span><span class=\"\">fedified.com/@hypatiadotca</span><span class=\"invisible\"></span></a>',\n",
       "    'verified_at': '2022-12-16T23:51:18.817+00:00'}]},\n",
       " 'media_attachments': [],\n",
       " 'mentions': [],\n",
       " 'tags': [],\n",
       " 'emojis': [],\n",
       " 'card': None,\n",
       " 'poll': None}"
      ]
     },
     "execution_count": 8,
     "metadata": {},
     "output_type": "execute_result"
    }
   ],
   "source": [
    "timeline[0]"
   ]
  },
  {
   "attachments": {},
   "cell_type": "markdown",
   "metadata": {},
   "source": [
    "# Streaming data"
   ]
  },
  {
   "attachments": {},
   "cell_type": "markdown",
   "metadata": {},
   "source": [
    "This part requires overriding a Listener."
   ]
  },
  {
   "cell_type": "code",
   "execution_count": 9,
   "metadata": {},
   "outputs": [],
   "source": [
    "class Listener(StreamListener):\n",
    "    def __init__(self, client: Mastodon, token: str) -> None:\n",
    "        self.client = client\n",
    "        self.token = token\n",
    "    def on_update(self, status: dict) -> None:\n",
    "        try:\n",
    "            status_id = status['id']\n",
    "            status['created_at'] = status['created_at'].isoformat()\n",
    "            status['account']['created_at'] = status['account']['created_at'].isoformat()\n",
    "            status['account']['last_status_at'] = status['account']['last_status_at'].isoformat()\n",
    "            account_domain = status['account']['acct'].split('@')[1]\n",
    "            username = status['account']['username']\n",
    "            os.makedirs(f'data/{account_domain}/{username}',exist_ok=True)\n",
    "            open(f'data/{account_domain}/{username}/{status_id}.json','w+').write(json.dumps(status,indent=4))\n",
    "        except:\n",
    "            print(status)"
   ]
  },
  {
   "attachments": {},
   "cell_type": "markdown",
   "metadata": {},
   "source": [
    "Set up the listener instance"
   ]
  },
  {
   "cell_type": "code",
   "execution_count": 10,
   "metadata": {},
   "outputs": [],
   "source": [
    "listener = Listener(mastodon, CONFIG['access_token'])"
   ]
  },
  {
   "attachments": {},
   "cell_type": "markdown",
   "metadata": {},
   "source": [
    "let it rip!"
   ]
  },
  {
   "cell_type": "code",
   "execution_count": null,
   "metadata": {},
   "outputs": [],
   "source": [
    "mastodon.stream_public(listener)"
   ]
  },
  {
   "attachments": {},
   "cell_type": "markdown",
   "metadata": {},
   "source": [
    "woo, output in the `data` directory.... let's try something similar on the local server"
   ]
  },
  {
   "cell_type": "code",
   "execution_count": 12,
   "metadata": {},
   "outputs": [
    {
     "name": "stdout",
     "output_type": "stream",
     "text": [
      "{'id': 109527755105338540, 'created_at': '2022-12-17T07:08:31.641000+00:00', 'in_reply_to_id': None, 'in_reply_to_account_id': None, 'sensitive': False, 'spoiler_text': '', 'visibility': 'public', 'language': 'en', 'uri': 'https://infosec.exchange/users/coleens_/statuses/109527755105338540', 'url': 'https://infosec.exchange/@coleens_/109527755105338540', 'replies_count': 0, 'reblogs_count': 0, 'favourites_count': 0, 'edited_at': None, 'local_only': False, 'content': '<p>damn</p><p><a href=\"https://youtu.be/DnyF26F7xrc\" target=\"_blank\" rel=\"nofollow noopener noreferrer\"><span class=\"invisible\">https://</span><span class=\"\">youtu.be/DnyF26F7xrc</span><span class=\"invisible\"></span></a></p>', 'reblog': None, 'account': {'id': 109304302165280929, 'username': 'coleens_', 'acct': 'coleens_', 'display_name': 'Coleen', 'locked': False, 'bot': False, 'discoverable': True, 'group': False, 'created_at': '2022-11-07T00:00:00+00:00', 'note': '<p>neutral good ☥ sapphic ☥ ventrue ☥ bikini rebel ☥ engineer ☥ artist ☥ hiker ☥ author ☥ dad ☥ lover of pilates ☥ eater of jalapeño chips ☥ says shit a lot ☥  phenomenal with firewalls ☥ always concerned about the status of nachos ☥ breaker of shit ☥ queen of polls ☥ poster of goth and darkwave </p><p>𓀿𓁥𓅃𓌀𓇳𓇋𓅞𓃭𓂀</p><p>she/her/they</p><p>🏳️\\u200d🌈🏳️\\u200d⚧️🏴\\u200d☠️</p>', 'url': 'https://infosec.exchange/@coleens_', 'avatar': 'https://media.infosec.exchange/infosecmedia/accounts/avatars/109/304/302/165/280/929/original/539f697d4883a64b.png', 'avatar_static': 'https://media.infosec.exchange/infosecmedia/accounts/avatars/109/304/302/165/280/929/original/539f697d4883a64b.png', 'header': 'https://media.infosec.exchange/infosecmedia/accounts/headers/109/304/302/165/280/929/original/4eb64b80deccfb7f.jpg', 'header_static': 'https://media.infosec.exchange/infosecmedia/accounts/headers/109/304/302/165/280/929/original/4eb64b80deccfb7f.jpg', 'followers_count': 1317, 'following_count': 356, 'statuses_count': 5601, 'last_status_at': '2022-12-17T00:00:00', 'noindex': True, 'emojis': [], 'fields': [{'name': 'Twitter', 'value': '<a href=\"https://www.twitter.com/coleens_\" target=\"_blank\" rel=\"nofollow noopener noreferrer me\"><span class=\"invisible\">https://www.</span><span class=\"\">twitter.com/coleens_</span><span class=\"invisible\"></span></a>', 'verified_at': None}, {'name': 'LinkedIn', 'value': '<a href=\"https://www.linkedin.com/in/coleens\" target=\"_blank\" rel=\"nofollow noopener noreferrer me\"><span class=\"invisible\">https://www.</span><span class=\"\">linkedin.com/in/coleens</span><span class=\"invisible\"></span></a>', 'verified_at': None}, {'name': 'YouTube', 'value': '<a href=\"https://www.youtube.com/channel/UCMoI7n4G6k4yDQ3NBcsFvqw\" target=\"_blank\" rel=\"nofollow noopener noreferrer me\"><span class=\"invisible\">https://www.</span><span class=\"ellipsis\">youtube.com/channel/UCMoI7n4G6</span><span class=\"invisible\">k4yDQ3NBcsFvqw</span></a>', 'verified_at': None}, {'name': 'Polls', 'value': '<a href=\"https://infosec.exchange/tags/ColeensPolls\" class=\"mention hashtag\" rel=\"tag\">#<span>ColeensPolls</span></a>', 'verified_at': None}, {'name': 'Short Story', 'value': '<a href=\"https://infosec.exchange/@coleens_/109438650540895905\" target=\"_blank\" rel=\"nofollow noopener noreferrer me\"><span class=\"invisible\">https://</span><span class=\"ellipsis\">infosec.exchange/@coleens_/109</span><span class=\"invisible\">438650540895905</span></a>', 'verified_at': None}, {'name': 'Sober', 'value': '19/11/2022', 'verified_at': None}]}, 'media_attachments': [], 'mentions': [], 'tags': [], 'emojis': [], 'card': None, 'poll': None, 'filtered': []}\n"
     ]
    },
    {
     "ename": "KeyboardInterrupt",
     "evalue": "",
     "output_type": "error",
     "traceback": [
      "\u001b[0;31m---------------------------------------------------------------------------\u001b[0m",
      "\u001b[0;31mKeyboardInterrupt\u001b[0m                         Traceback (most recent call last)",
      "Cell \u001b[0;32mIn[12], line 1\u001b[0m\n\u001b[0;32m----> 1\u001b[0m mastodon\u001b[39m.\u001b[39;49mstream_local(listener)\n",
      "File \u001b[0;32m~/Library/Python/3.11/lib/python/site-packages/decorator.py:232\u001b[0m, in \u001b[0;36mdecorate.<locals>.fun\u001b[0;34m(*args, **kw)\u001b[0m\n\u001b[1;32m    230\u001b[0m \u001b[39mif\u001b[39;00m \u001b[39mnot\u001b[39;00m kwsyntax:\n\u001b[1;32m    231\u001b[0m     args, kw \u001b[39m=\u001b[39m fix(args, kw, sig)\n\u001b[0;32m--> 232\u001b[0m \u001b[39mreturn\u001b[39;00m caller(func, \u001b[39m*\u001b[39;49m(extras \u001b[39m+\u001b[39;49m args), \u001b[39m*\u001b[39;49m\u001b[39m*\u001b[39;49mkw)\n",
      "File \u001b[0;32m/opt/homebrew/lib/python3.11/site-packages/mastodon/utility.py:47\u001b[0m, in \u001b[0;36mapi_version.<locals>.api_min_version_decorator.<locals>.wrapper\u001b[0;34m(function, self, *args, **kwargs)\u001b[0m\n\u001b[1;32m     45\u001b[0m     \u001b[39melif\u001b[39;00m major \u001b[39m==\u001b[39m \u001b[39mself\u001b[39m\u001b[39m.\u001b[39mmastodon_major \u001b[39mand\u001b[39;00m minor \u001b[39m==\u001b[39m \u001b[39mself\u001b[39m\u001b[39m.\u001b[39mmastodon_minor \u001b[39mand\u001b[39;00m patch \u001b[39m>\u001b[39m \u001b[39mself\u001b[39m\u001b[39m.\u001b[39mmastodon_patch:\n\u001b[1;32m     46\u001b[0m         \u001b[39mraise\u001b[39;00m MastodonVersionError(\u001b[39m\"\u001b[39m\u001b[39mVersion check failed (Need version \u001b[39m\u001b[39m\"\u001b[39m \u001b[39m+\u001b[39m version \u001b[39m+\u001b[39m \u001b[39m\"\u001b[39m\u001b[39m, patch is \u001b[39m\u001b[39m\"\u001b[39m \u001b[39m+\u001b[39m \u001b[39mstr\u001b[39m(\u001b[39mself\u001b[39m\u001b[39m.\u001b[39mmastodon_patch) \u001b[39m+\u001b[39m \u001b[39m\"\u001b[39m\u001b[39m)\u001b[39m\u001b[39m\"\u001b[39m)\n\u001b[0;32m---> 47\u001b[0m \u001b[39mreturn\u001b[39;00m function(\u001b[39mself\u001b[39;49m, \u001b[39m*\u001b[39;49margs, \u001b[39m*\u001b[39;49m\u001b[39m*\u001b[39;49mkwargs)\n",
      "File \u001b[0;32m/opt/homebrew/lib/python3.11/site-packages/mastodon/streaming_endpoints.py:34\u001b[0m, in \u001b[0;36mMastodon.stream_local\u001b[0;34m(self, listener, run_async, timeout, reconnect_async, reconnect_async_wait_sec)\u001b[0m\n\u001b[1;32m     29\u001b[0m \u001b[39m@api_version\u001b[39m(\u001b[39m\"\u001b[39m\u001b[39m1.1.0\u001b[39m\u001b[39m\"\u001b[39m, \u001b[39m\"\u001b[39m\u001b[39m1.4.2\u001b[39m\u001b[39m\"\u001b[39m, _DICT_VERSION_STATUS)\n\u001b[1;32m     30\u001b[0m \u001b[39mdef\u001b[39;00m \u001b[39mstream_local\u001b[39m(\u001b[39mself\u001b[39m, listener, run_async\u001b[39m=\u001b[39m\u001b[39mFalse\u001b[39;00m, timeout\u001b[39m=\u001b[39m_DEFAULT_STREAM_TIMEOUT, reconnect_async\u001b[39m=\u001b[39m\u001b[39mFalse\u001b[39;00m, reconnect_async_wait_sec\u001b[39m=\u001b[39m_DEFAULT_STREAM_RECONNECT_WAIT_SEC):\n\u001b[1;32m     31\u001b[0m     \u001b[39m\"\"\"\u001b[39;00m\n\u001b[1;32m     32\u001b[0m \u001b[39m    Streams local public events.\u001b[39;00m\n\u001b[1;32m     33\u001b[0m \u001b[39m    \"\"\"\u001b[39;00m\n\u001b[0;32m---> 34\u001b[0m     \u001b[39mreturn\u001b[39;00m \u001b[39mself\u001b[39;49m\u001b[39m.\u001b[39;49m__stream(\u001b[39m'\u001b[39;49m\u001b[39m/api/v1/streaming/public/local\u001b[39;49m\u001b[39m'\u001b[39;49m, listener, run_async\u001b[39m=\u001b[39;49mrun_async, timeout\u001b[39m=\u001b[39;49mtimeout, reconnect_async\u001b[39m=\u001b[39;49mreconnect_async, reconnect_async_wait_sec\u001b[39m=\u001b[39;49mreconnect_async_wait_sec)\n",
      "File \u001b[0;32m/opt/homebrew/lib/python3.11/site-packages/mastodon/internals.py:544\u001b[0m, in \u001b[0;36mMastodon.__stream\u001b[0;34m(self, endpoint, listener, params, run_async, timeout, reconnect_async, reconnect_async_wait_sec)\u001b[0m\n\u001b[1;32m    542\u001b[0m connection \u001b[39m=\u001b[39m connect_func()\n\u001b[1;32m    543\u001b[0m \u001b[39mwith\u001b[39;00m closing(connection) \u001b[39mas\u001b[39;00m r:\n\u001b[0;32m--> 544\u001b[0m     listener\u001b[39m.\u001b[39;49mhandle_stream(r)\n",
      "File \u001b[0;32m/opt/homebrew/lib/python3.11/site-packages/mastodon/streaming.py:109\u001b[0m, in \u001b[0;36mStreamListener.handle_stream\u001b[0;34m(self, response)\u001b[0m\n\u001b[1;32m    107\u001b[0m line_buffer \u001b[39m=\u001b[39m \u001b[39mbytearray\u001b[39m()\n\u001b[1;32m    108\u001b[0m \u001b[39mtry\u001b[39;00m:\n\u001b[0;32m--> 109\u001b[0m     \u001b[39mfor\u001b[39;00m chunk \u001b[39min\u001b[39;00m response\u001b[39m.\u001b[39miter_content(chunk_size\u001b[39m=\u001b[39m\u001b[39m1\u001b[39m):\n\u001b[1;32m    110\u001b[0m         \u001b[39mif\u001b[39;00m chunk:\n\u001b[1;32m    111\u001b[0m             \u001b[39mfor\u001b[39;00m chunk_part \u001b[39min\u001b[39;00m chunk:\n",
      "File \u001b[0;32m/opt/homebrew/lib/python3.11/site-packages/requests/models.py:816\u001b[0m, in \u001b[0;36mResponse.iter_content.<locals>.generate\u001b[0;34m()\u001b[0m\n\u001b[1;32m    814\u001b[0m \u001b[39mif\u001b[39;00m \u001b[39mhasattr\u001b[39m(\u001b[39mself\u001b[39m\u001b[39m.\u001b[39mraw, \u001b[39m\"\u001b[39m\u001b[39mstream\u001b[39m\u001b[39m\"\u001b[39m):\n\u001b[1;32m    815\u001b[0m     \u001b[39mtry\u001b[39;00m:\n\u001b[0;32m--> 816\u001b[0m         \u001b[39myield from\u001b[39;00m \u001b[39mself\u001b[39m\u001b[39m.\u001b[39mraw\u001b[39m.\u001b[39mstream(chunk_size, decode_content\u001b[39m=\u001b[39m\u001b[39mTrue\u001b[39;00m)\n\u001b[1;32m    817\u001b[0m     \u001b[39mexcept\u001b[39;00m ProtocolError \u001b[39mas\u001b[39;00m e:\n\u001b[1;32m    818\u001b[0m         \u001b[39mraise\u001b[39;00m ChunkedEncodingError(e)\n",
      "File \u001b[0;32m/opt/homebrew/lib/python3.11/site-packages/urllib3/response.py:624\u001b[0m, in \u001b[0;36mHTTPResponse.stream\u001b[0;34m(self, amt, decode_content)\u001b[0m\n\u001b[1;32m    608\u001b[0m \u001b[39m\"\"\"\u001b[39;00m\n\u001b[1;32m    609\u001b[0m \u001b[39mA generator wrapper for the read() method. A call will block until\u001b[39;00m\n\u001b[1;32m    610\u001b[0m \u001b[39m``amt`` bytes have been read from the connection or until the\u001b[39;00m\n\u001b[0;32m   (...)\u001b[0m\n\u001b[1;32m    621\u001b[0m \u001b[39m    'content-encoding' header.\u001b[39;00m\n\u001b[1;32m    622\u001b[0m \u001b[39m\"\"\"\u001b[39;00m\n\u001b[1;32m    623\u001b[0m \u001b[39mif\u001b[39;00m \u001b[39mself\u001b[39m\u001b[39m.\u001b[39mchunked \u001b[39mand\u001b[39;00m \u001b[39mself\u001b[39m\u001b[39m.\u001b[39msupports_chunked_reads():\n\u001b[0;32m--> 624\u001b[0m     \u001b[39mfor\u001b[39;00m line \u001b[39min\u001b[39;00m \u001b[39mself\u001b[39m\u001b[39m.\u001b[39mread_chunked(amt, decode_content\u001b[39m=\u001b[39mdecode_content):\n\u001b[1;32m    625\u001b[0m         \u001b[39myield\u001b[39;00m line\n\u001b[1;32m    626\u001b[0m \u001b[39melse\u001b[39;00m:\n",
      "File \u001b[0;32m/opt/homebrew/lib/python3.11/site-packages/urllib3/response.py:828\u001b[0m, in \u001b[0;36mHTTPResponse.read_chunked\u001b[0;34m(self, amt, decode_content)\u001b[0m\n\u001b[1;32m    825\u001b[0m     \u001b[39mreturn\u001b[39;00m\n\u001b[1;32m    827\u001b[0m \u001b[39mwhile\u001b[39;00m \u001b[39mTrue\u001b[39;00m:\n\u001b[0;32m--> 828\u001b[0m     \u001b[39mself\u001b[39;49m\u001b[39m.\u001b[39;49m_update_chunk_length()\n\u001b[1;32m    829\u001b[0m     \u001b[39mif\u001b[39;00m \u001b[39mself\u001b[39m\u001b[39m.\u001b[39mchunk_left \u001b[39m==\u001b[39m \u001b[39m0\u001b[39m:\n\u001b[1;32m    830\u001b[0m         \u001b[39mbreak\u001b[39;00m\n",
      "File \u001b[0;32m/opt/homebrew/lib/python3.11/site-packages/urllib3/response.py:758\u001b[0m, in \u001b[0;36mHTTPResponse._update_chunk_length\u001b[0;34m(self)\u001b[0m\n\u001b[1;32m    756\u001b[0m \u001b[39mif\u001b[39;00m \u001b[39mself\u001b[39m\u001b[39m.\u001b[39mchunk_left \u001b[39mis\u001b[39;00m \u001b[39mnot\u001b[39;00m \u001b[39mNone\u001b[39;00m:\n\u001b[1;32m    757\u001b[0m     \u001b[39mreturn\u001b[39;00m\n\u001b[0;32m--> 758\u001b[0m line \u001b[39m=\u001b[39m \u001b[39mself\u001b[39m\u001b[39m.\u001b[39m_fp\u001b[39m.\u001b[39mfp\u001b[39m.\u001b[39mreadline()\n\u001b[1;32m    759\u001b[0m line \u001b[39m=\u001b[39m line\u001b[39m.\u001b[39msplit(\u001b[39mb\u001b[39m\u001b[39m\"\u001b[39m\u001b[39m;\u001b[39m\u001b[39m\"\u001b[39m, \u001b[39m1\u001b[39m)[\u001b[39m0\u001b[39m]\n\u001b[1;32m    760\u001b[0m \u001b[39mtry\u001b[39;00m:\n",
      "File \u001b[0;32m/opt/homebrew/Cellar/python@3.11/3.11.0/Frameworks/Python.framework/Versions/3.11/lib/python3.11/socket.py:705\u001b[0m, in \u001b[0;36mSocketIO.readinto\u001b[0;34m(self, b)\u001b[0m\n\u001b[1;32m    703\u001b[0m \u001b[39mwhile\u001b[39;00m \u001b[39mTrue\u001b[39;00m:\n\u001b[1;32m    704\u001b[0m     \u001b[39mtry\u001b[39;00m:\n\u001b[0;32m--> 705\u001b[0m         \u001b[39mreturn\u001b[39;00m \u001b[39mself\u001b[39;49m\u001b[39m.\u001b[39;49m_sock\u001b[39m.\u001b[39;49mrecv_into(b)\n\u001b[1;32m    706\u001b[0m     \u001b[39mexcept\u001b[39;00m timeout:\n\u001b[1;32m    707\u001b[0m         \u001b[39mself\u001b[39m\u001b[39m.\u001b[39m_timeout_occurred \u001b[39m=\u001b[39m \u001b[39mTrue\u001b[39;00m\n",
      "File \u001b[0;32m/opt/homebrew/Cellar/python@3.11/3.11.0/Frameworks/Python.framework/Versions/3.11/lib/python3.11/ssl.py:1278\u001b[0m, in \u001b[0;36mSSLSocket.recv_into\u001b[0;34m(self, buffer, nbytes, flags)\u001b[0m\n\u001b[1;32m   1274\u001b[0m     \u001b[39mif\u001b[39;00m flags \u001b[39m!=\u001b[39m \u001b[39m0\u001b[39m:\n\u001b[1;32m   1275\u001b[0m         \u001b[39mraise\u001b[39;00m \u001b[39mValueError\u001b[39;00m(\n\u001b[1;32m   1276\u001b[0m           \u001b[39m\"\u001b[39m\u001b[39mnon-zero flags not allowed in calls to recv_into() on \u001b[39m\u001b[39m%s\u001b[39;00m\u001b[39m\"\u001b[39m \u001b[39m%\u001b[39m\n\u001b[1;32m   1277\u001b[0m           \u001b[39mself\u001b[39m\u001b[39m.\u001b[39m\u001b[39m__class__\u001b[39m)\n\u001b[0;32m-> 1278\u001b[0m     \u001b[39mreturn\u001b[39;00m \u001b[39mself\u001b[39;49m\u001b[39m.\u001b[39;49mread(nbytes, buffer)\n\u001b[1;32m   1279\u001b[0m \u001b[39melse\u001b[39;00m:\n\u001b[1;32m   1280\u001b[0m     \u001b[39mreturn\u001b[39;00m \u001b[39msuper\u001b[39m()\u001b[39m.\u001b[39mrecv_into(buffer, nbytes, flags)\n",
      "File \u001b[0;32m/opt/homebrew/Cellar/python@3.11/3.11.0/Frameworks/Python.framework/Versions/3.11/lib/python3.11/ssl.py:1134\u001b[0m, in \u001b[0;36mSSLSocket.read\u001b[0;34m(self, len, buffer)\u001b[0m\n\u001b[1;32m   1132\u001b[0m \u001b[39mtry\u001b[39;00m:\n\u001b[1;32m   1133\u001b[0m     \u001b[39mif\u001b[39;00m buffer \u001b[39mis\u001b[39;00m \u001b[39mnot\u001b[39;00m \u001b[39mNone\u001b[39;00m:\n\u001b[0;32m-> 1134\u001b[0m         \u001b[39mreturn\u001b[39;00m \u001b[39mself\u001b[39;49m\u001b[39m.\u001b[39;49m_sslobj\u001b[39m.\u001b[39;49mread(\u001b[39mlen\u001b[39;49m, buffer)\n\u001b[1;32m   1135\u001b[0m     \u001b[39melse\u001b[39;00m:\n\u001b[1;32m   1136\u001b[0m         \u001b[39mreturn\u001b[39;00m \u001b[39mself\u001b[39m\u001b[39m.\u001b[39m_sslobj\u001b[39m.\u001b[39mread(\u001b[39mlen\u001b[39m)\n",
      "\u001b[0;31mKeyboardInterrupt\u001b[0m: "
     ]
    }
   ],
   "source": [
    "mastodon.stream_local(listener)"
   ]
  },
  {
   "attachments": {},
   "cell_type": "markdown",
   "metadata": {},
   "source": [
    "Errored out somewhere. perhaps some weird encoding?"
   ]
  }
 ],
 "metadata": {
  "kernelspec": {
   "display_name": "Python 3",
   "language": "python",
   "name": "python3"
  },
  "language_info": {
   "codemirror_mode": {
    "name": "ipython",
    "version": 3
   },
   "file_extension": ".py",
   "mimetype": "text/x-python",
   "name": "python",
   "nbconvert_exporter": "python",
   "pygments_lexer": "ipython3",
   "version": "3.11.0"
  },
  "orig_nbformat": 4,
  "vscode": {
   "interpreter": {
    "hash": "5c7b89af1651d0b8571dde13640ecdccf7d5a6204171d6ab33e7c296e100e08a"
   }
  }
 },
 "nbformat": 4,
 "nbformat_minor": 2
}
